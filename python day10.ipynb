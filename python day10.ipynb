{
 "cells": [
  {
   "cell_type": "markdown",
   "metadata": {},
   "source": [
    "### Standard libraries\n",
    "* File I/O\n",
    "* Regular expression\n",
    "* Datetime\n",
    "* Math(numerical and mathematical)"
   ]
  },
  {
   "cell_type": "markdown",
   "metadata": {},
   "source": [
    "### File Handling in python\n",
    "* File:-Document containing information resides on the permanent storage\n",
    "* Different types of files:-txt,doc,pdf,csv and etc...\n",
    "* Input--keyboard\n",
    "* Output--file\n",
    "\n",
    "### Modules of the file I/O\n",
    "* 'w'-This mode is used to file writing\n",
    "\n",
    "   --If file is not present it creates the file and write the data into it "
   ]
  },
  {
   "cell_type": "code",
   "execution_count": 7,
   "metadata": {},
   "outputs": [
    {
     "name": "stdout",
     "output_type": "stream",
     "text": [
      "file is created and data is written\n"
     ]
    }
   ],
   "source": [
    "#function to create a FILE AND WRITE to the file \n",
    "def createfile(filename):\n",
    "    f=open(filename,'w')\n",
    "    for i in range(10):\n",
    "        f.write('this is %d line \\n'%i)\n",
    "    print(\"file is created and data is written\")\n",
    "    return\n",
    "createfile('file.txt')\n"
   ]
  },
  {
   "cell_type": "code",
   "execution_count": 8,
   "metadata": {},
   "outputs": [
    {
     "name": "stdout",
     "output_type": "stream",
     "text": [
      "file is created and data is written\n"
     ]
    }
   ],
   "source": [
    "\n",
    "def appenddata(filename):\n",
    "    f=open(filename,'a')\n",
    "    for i in range(10):\n",
    "        f.write('this is %d line \\n'%i)\n",
    "    print(\"file is created and data is written\")\n",
    "    return\n",
    "appenddata('file2.txt')\n"
   ]
  },
  {
   "cell_type": "code",
   "execution_count": 9,
   "metadata": {},
   "outputs": [
    {
     "name": "stdout",
     "output_type": "stream",
     "text": [
      "file is created and data is written \n",
      "\n"
     ]
    }
   ],
   "source": [
    "\n",
    "def appenddata(filename):\n",
    "    f=open(filename,'a')\n",
    "    f.write(\"New Line1 \\n\")\n",
    "    f.write(\"New line2 \\n\")\n",
    "    print(\"file is created and data is written \\n\")\n",
    "    f.close()\n",
    "    return\n",
    "appenddata('file2.txt')\n"
   ]
  },
  {
   "cell_type": "code",
   "execution_count": 4,
   "metadata": {},
   "outputs": [
    {
     "name": "stdout",
     "output_type": "stream",
     "text": [
      "this is 0.000000 line this is 1.000000 line this is 2.000000 line this is 3.000000 line this is 4.000000 line this is 5.000000 line this is 6.000000 line this is 7.000000 line this is 8.000000 line this is 9.000000 line New Line1 \n",
      "New line2 \n",
      "this is 0.000000 line \n",
      "this is 1.000000 line \n",
      "this is 2.000000 line \n",
      "this is 3.000000 line \n",
      "this is 4.000000 line \n",
      "this is 5.000000 line \n",
      "this is 6.000000 line \n",
      "this is 7.000000 line \n",
      "this is 8.000000 line \n",
      "this is 9.000000 line \n",
      "New Line1 \n",
      "New line2 \n",
      "this is 0.000000 line \n",
      "this is 1.000000 line \n",
      "this is 2.000000 line \n",
      "this is 3.000000 line \n",
      "this is 4.000000 line \n",
      "this is 5.000000 line \n",
      "this is 6.000000 line \n",
      "this is 7.000000 line \n",
      "this is 8.000000 line \n",
      "this is 9.000000 line \n",
      "New Line1 \n",
      "New line2 \n",
      "this is 0 line \n",
      "this is 1 line \n",
      "this is 2 line \n",
      "this is 3 line \n",
      "this is 4 line \n",
      "this is 5 line \n",
      "this is 6 line \n",
      "this is 7 line \n",
      "this is 8 line \n",
      "this is 9 line \n",
      "New Line1 \n",
      "New line2 \n",
      "this is 0 line \n",
      "this is 1 line \n",
      "this is 2 line \n",
      "this is 3 line \n",
      "this is 4 line \n",
      "this is 5 line \n",
      "this is 6 line \n",
      "this is 7 line \n",
      "this is 8 line \n",
      "this is 9 line \n",
      "New Line1 \n",
      "New line2 \n",
      "this is 0 line \n",
      "this is 1 line \n",
      "this is 2 line \n",
      "this is 3 line \n",
      "this is 4 line \n",
      "this is 5 line \n",
      "this is 6 line \n",
      "this is 7 line \n",
      "this is 8 line \n",
      "this is 9 line \n",
      "New Line1 \n",
      "New line2 \n",
      "New Line1 \n",
      "New line2 \n",
      "this is 0 line \n",
      "this is 1 line \n",
      "this is 2 line \n",
      "this is 3 line \n",
      "this is 4 line \n",
      "this is 5 line \n",
      "this is 6 line \n",
      "this is 7 line \n",
      "this is 8 line \n",
      "this is 9 line \n",
      "New Line1 \n",
      "New line2 \n",
      "\n"
     ]
    }
   ],
   "source": [
    "# function to read of the file \n",
    "def readfiledata(filename):\n",
    "    f = open(filename,'r')\n",
    "    if f.mode == 'r':\n",
    "        x = f.read()\n",
    "        print(x)\n",
    "    f.close()\n",
    "    return\n",
    "readfiledata('file2.txt')\n"
   ]
  },
  {
   "cell_type": "code",
   "execution_count": 5,
   "metadata": {},
   "outputs": [
    {
     "name": "stdout",
     "output_type": "stream",
     "text": [
      "Enter the file name : file2.txt\n",
      "Enter the word : r\n"
     ]
    },
    {
     "data": {
      "text/plain": [
       "0"
      ]
     },
     "execution_count": 5,
     "metadata": {},
     "output_type": "execute_result"
    }
   ],
   "source": [
    "# Data Analysis\n",
    "# Word Count Program\n",
    "def wordCount(filename,word):\n",
    "    with open(filename,'r') as f:\n",
    "        if f.mode =='r':\n",
    "            x = f.read()\n",
    "            li = x.split()\n",
    "    cnt = li.count(word)\n",
    "    return cnt\n",
    "filename = input('Enter the file name : ')\n",
    "word = input('Enter the word : ')\n",
    "wordCount(filename,word)\n"
   ]
  },
  {
   "cell_type": "code",
   "execution_count": 6,
   "metadata": {},
   "outputs": [
    {
     "name": "stdout",
     "output_type": "stream",
     "text": [
      "enter the filename :file2.txt\n"
     ]
    },
    {
     "data": {
      "text/plain": [
       "1496"
      ]
     },
     "execution_count": 6,
     "metadata": {},
     "output_type": "execute_result"
    }
   ],
   "source": [
    "# character count from the given file\n",
    "def charcount(filename):\n",
    "    with open(filename,'r') as f:\n",
    "        if f.mode == 'r':\n",
    "            x= f.read()\n",
    "            li = list(x)\n",
    "    return len(li)\n",
    "filename = input('enter the filename :')\n",
    "charcount(filename)\n"
   ]
  },
  {
   "cell_type": "code",
   "execution_count": 7,
   "metadata": {},
   "outputs": [
    {
     "name": "stdout",
     "output_type": "stream",
     "text": [
      "Enter the filename:file2.txt\n"
     ]
    },
    {
     "data": {
      "text/plain": [
       "77"
      ]
     },
     "execution_count": 7,
     "metadata": {},
     "output_type": "execute_result"
    }
   ],
   "source": [
    "# function to find the no of lines in the input file\n",
    "def countoflines(filename):\n",
    "    with open(filename,'r') as f:\n",
    "        if f.mode=='r':\n",
    "            x=f.read()\n",
    "            li=x.split(\"\\n\")\n",
    "    return len(li)\n",
    "filename=input('Enter the filename:')\n",
    "countoflines(filename)\n"
   ]
  },
  {
   "cell_type": "code",
   "execution_count": 8,
   "metadata": {},
   "outputs": [
    {
     "name": "stdout",
     "output_type": "stream",
     "text": [
      "enter filename:file2.txt\n"
     ]
    },
    {
     "data": {
      "text/plain": [
       "'upper case = 24,lower case =788'"
      ]
     },
     "execution_count": 8,
     "metadata": {},
     "output_type": "execute_result"
    }
   ],
   "source": [
    "def casecount(filename):\n",
    "    cntupper=0\n",
    "    cntlower=0\n",
    "    with open(filename,'r') as f:\n",
    "        if f.mode =='r':\n",
    "            x = f.read()\n",
    "            li=list(x)\n",
    "    for i in li:\n",
    "        if i.isupper():\n",
    "            cntupper +=1\n",
    "        elif i.islower():\n",
    "            cntlower +=1\n",
    "    output='upper case = {0},lower case ={1}'.format(cntupper,cntlower)\n",
    "    return output\n",
    "filename =input('enter filename:')\n",
    "casecount(filename)\n",
    "\n",
    "\n",
    "\n",
    "\n"
   ]
  },
  {
   "cell_type": "markdown",
   "metadata": {},
   "source": [
    "### Math,random,os\n",
    "* package it contains the certain methods which works with OS\n"
   ]
  },
  {
   "cell_type": "code",
   "execution_count": 9,
   "metadata": {},
   "outputs": [
    {
     "name": "stdout",
     "output_type": "stream",
     "text": [
      " Volume in drive C has no label.\n",
      " Volume Serial Number is F679-248A\n",
      "\n",
      " Directory of C:\\Users\\262\n",
      "\n",
      "11-07-2019  12:33    <DIR>          .\n",
      "11-07-2019  12:33    <DIR>          ..\n",
      "08-05-2019  15:07    <DIR>          .anaconda\n",
      "17-03-2017  11:35               145 .appletviewer\n",
      "21-05-2019  19:54               304 .bash_history\n",
      "02-11-2017  15:45                 0 .cdtclient\n",
      "22-06-2019  15:59    <DIR>          .conda\n",
      "22-06-2019  14:20                43 .condarc\n",
      "30-10-2018  11:23    <DIR>          .eclipse\n",
      "21-05-2019  19:50                70 .gitconfig\n",
      "29-06-2019  10:18    <DIR>          .idlerc\n",
      "11-07-2019  09:16    <DIR>          .ipynb_checkpoints\n",
      "08-05-2019  15:26    <DIR>          .ipython\n",
      "30-10-2018  11:23    <DIR>          .jmc\n",
      "15-05-2019  19:36    <DIR>          .jupyter\n",
      "18-05-2019  16:37    <DIR>          .matplotlib\n",
      "15-11-2018  11:24    <DIR>          .metadata\n",
      "11-01-2019  13:55    <DIR>          .oracle_jre_usage\n",
      "08-05-2019  15:54                54 .python_history\n",
      "10-05-2019  21:16             7,691 10th May.ipynb\n",
      "16-05-2019  15:35             2,517 10thmay.ipynb\n",
      "11-05-2019  20:25             1,788 11th May 2019.ipynb\n",
      "16-05-2019  16:41             7,058 12th may.ipynb\n",
      "16-05-2019  16:50             4,896 13th may.ipynb\n",
      "26-06-2019  15:40             2,017 26 june 2019.ipynb\n",
      "28-06-2019  15:53             9,254 28 june 2019.ipynb\n",
      "22-04-2019  22:21    <DIR>          Anaconda3\n",
      "15-11-2018  09:46    <DIR>          applet\n",
      "15-11-2018  09:55    <DIR>          applet.java\n",
      "15-11-2018  11:13    <DIR>          applette.java\n",
      "08-05-2019  20:21    <DIR>          Contacts\n",
      "22-06-2019  15:26             4,381 control statements.ipynb\n",
      "13-12-2016  10:25    <DIR>          cseb463\n",
      "29-06-2019  14:34             3,263 Day 12(29-06-2019).ipynb\n",
      "15-05-2019  17:02             6,354 Day 8.ipynb\n",
      "10-05-2019  15:52            15,871 Day 9.ipynb\n",
      "27-06-2019  11:03             2,206 Day-10.ipynb\n",
      "07-07-2019  08:49    <DIR>          Desktop\n",
      "24-06-2019  10:08    <DIR>          Documents\n",
      "29-06-2019  15:02    <DIR>          Downloads\n",
      "08-05-2019  20:21    <DIR>          Favorites\n",
      "11-07-2019  12:10               170 file.txt\n",
      "27-06-2019  10:22               170 file1.txt\n",
      "11-07-2019  12:10             1,572 file2.txt\n",
      "17-05-2019  17:18                 0 income.csv\n",
      "08-05-2019  20:21    <DIR>          Links\n",
      "14-05-2019  17:39               795 may14.ipynb\n",
      "08-05-2019  20:21    <DIR>          Music\n",
      "08-05-2019  21:35             1,627 my first python program.ipynb\n",
      "17-05-2019  17:38    <DIR>          Pandas\n",
      "08-05-2019  20:21    <DIR>          Pictures\n",
      "11-07-2019  12:33             9,083 python day10.ipynb\n",
      "08-07-2019  15:30             8,944 python day7.ipynb\n",
      "09-07-2019  16:41             3,340 python day8.ipynb\n",
      "10-07-2019  16:51             9,247 python day9.ipynb\n",
      "22-06-2019  15:25             4,381 rakii.ipynb\n",
      "08-05-2019  20:21    <DIR>          Saved Games\n",
      "08-05-2019  20:21    <DIR>          Searches\n",
      "08-05-2019  21:12             1,153 skill enhancement.ipynb\n",
      "15-05-2019  17:40                 0 test.py\n",
      "15-05-2019  17:47                30 test2.py\n",
      "15-05-2019  20:24             2,747 Untitled.ipynb\n",
      "08-05-2019  16:01                72 Untitled1.ipynb\n",
      "08-05-2019  20:29               771 Untitled10.ipynb\n",
      "08-05-2019  20:51             1,153 Untitled11.ipynb\n",
      "08-05-2019  21:31             1,627 Untitled12.ipynb\n",
      "09-05-2019  15:12               800 Untitled13.ipynb\n",
      "09-05-2019  16:25               800 Untitled13-Copy1.ipynb\n",
      "09-05-2019  16:39             1,552 Untitled14.ipynb\n",
      "10-05-2019  16:12             1,725 Untitled15.ipynb\n",
      "11-05-2019  16:19               746 Untitled16.ipynb\n",
      "12-05-2019  15:39             2,910 Untitled17.ipynb\n",
      "14-05-2019  15:25               555 Untitled18.ipynb\n",
      "16-05-2019  15:23                72 Untitled19.ipynb\n",
      "08-05-2019  16:28                72 Untitled2.ipynb\n",
      "16-05-2019  16:17                72 Untitled20.ipynb\n",
      "16-05-2019  16:45                72 Untitled21.ipynb\n",
      "18-05-2019  20:32               555 Untitled22.ipynb\n",
      "22-06-2019  02:16               555 Untitled23.ipynb\n",
      "22-06-2019  03:23               851 Untitled24.ipynb\n",
      "22-06-2019  11:09             2,983 Untitled25.ipynb\n",
      "28-06-2019  16:37             3,391 Untitled26.ipynb\n",
      "28-06-2019  17:14            20,700 Untitled27.ipynb\n",
      "09-07-2019  11:46             5,366 Untitled28.ipynb\n",
      "10-07-2019  12:44               573 Untitled29.ipynb\n",
      "08-05-2019  17:43                72 Untitled3.ipynb\n",
      "08-05-2019  19:53                72 Untitled4.ipynb\n",
      "08-05-2019  19:54                72 Untitled5.ipynb\n",
      "08-05-2019  19:55                72 Untitled6.ipynb\n",
      "08-05-2019  19:57                72 Untitled7.ipynb\n",
      "08-05-2019  20:06                72 Untitled8.ipynb\n",
      "08-05-2019  20:10                72 Untitled9.ipynb\n",
      "08-05-2019  20:21    <DIR>          Videos\n",
      "15-11-2018  13:53    <DIR>          workspace\n",
      "              63 File(s)        159,648 bytes\n",
      "              31 Dir(s)  71,257,939,968 bytes free\n"
     ]
    }
   ],
   "source": [
    "ls"
   ]
  },
  {
   "cell_type": "code",
   "execution_count": 13,
   "metadata": {},
   "outputs": [
    {
     "name": "stdout",
     "output_type": "stream",
     "text": [
      "C:\\users\\262\n"
     ]
    }
   ],
   "source": [
    "cd ..\n"
   ]
  },
  {
   "cell_type": "code",
   "execution_count": 14,
   "metadata": {},
   "outputs": [
    {
     "name": "stdout",
     "output_type": "stream",
     "text": [
      "C:\\users\\262\n"
     ]
    }
   ],
   "source": [
    "cd \\users\\262"
   ]
  },
  {
   "cell_type": "markdown",
   "metadata": {},
   "source": [
    "### creating a single directory"
   ]
  },
  {
   "cell_type": "code",
   "execution_count": 22,
   "metadata": {},
   "outputs": [
    {
     "ename": "FileExistsError",
     "evalue": "[WinError 183] Cannot create a file when that file already exists: 'SingleDirectory'",
     "output_type": "error",
     "traceback": [
      "\u001b[1;31m---------------------------------------------------------------------------\u001b[0m",
      "\u001b[1;31mFileExistsError\u001b[0m                           Traceback (most recent call last)",
      "\u001b[1;32m<ipython-input-22-74cba89addaa>\u001b[0m in \u001b[0;36m<module>\u001b[1;34m\u001b[0m\n\u001b[0;32m      1\u001b[0m \u001b[1;32mimport\u001b[0m \u001b[0mos\u001b[0m\u001b[1;33m\u001b[0m\u001b[1;33m\u001b[0m\u001b[0m\n\u001b[1;32m----> 2\u001b[1;33m \u001b[0mos\u001b[0m\u001b[1;33m.\u001b[0m\u001b[0mmkdir\u001b[0m\u001b[1;33m(\u001b[0m\u001b[1;34m'SingleDirectory'\u001b[0m\u001b[1;33m)\u001b[0m\u001b[1;33m\u001b[0m\u001b[1;33m\u001b[0m\u001b[0m\n\u001b[0m",
      "\u001b[1;31mFileExistsError\u001b[0m: [WinError 183] Cannot create a file when that file already exists: 'SingleDirectory'"
     ]
    }
   ],
   "source": [
    "import os\n",
    "os.mkdir('SingleDirectory')"
   ]
  },
  {
   "cell_type": "code",
   "execution_count": 21,
   "metadata": {},
   "outputs": [],
   "source": [
    "import pathlib\n",
    "p=pathlib.Path('test folder')\n",
    "p.mkdir()"
   ]
  },
  {
   "cell_type": "code",
   "execution_count": 24,
   "metadata": {},
   "outputs": [
    {
     "name": "stdout",
     "output_type": "stream",
     "text": [
      " Volume in drive C has no label.\n",
      " Volume Serial Number is F679-248A\n",
      "\n",
      " Directory of C:\\users\\262\n",
      "\n",
      "11-07-2019  14:59    <DIR>          .\n",
      "11-07-2019  14:59    <DIR>          ..\n",
      "08-05-2019  15:07    <DIR>          .anaconda\n",
      "17-03-2017  11:35               145 .appletviewer\n",
      "21-05-2019  19:54               304 .bash_history\n",
      "02-11-2017  15:45                 0 .cdtclient\n",
      "22-06-2019  15:59    <DIR>          .conda\n",
      "22-06-2019  14:20                43 .condarc\n",
      "30-10-2018  11:23    <DIR>          .eclipse\n",
      "21-05-2019  19:50                70 .gitconfig\n",
      "29-06-2019  10:18    <DIR>          .idlerc\n",
      "11-07-2019  09:16    <DIR>          .ipynb_checkpoints\n",
      "08-05-2019  15:26    <DIR>          .ipython\n",
      "30-10-2018  11:23    <DIR>          .jmc\n",
      "15-05-2019  19:36    <DIR>          .jupyter\n",
      "18-05-2019  16:37    <DIR>          .matplotlib\n",
      "15-11-2018  11:24    <DIR>          .metadata\n",
      "11-01-2019  13:55    <DIR>          .oracle_jre_usage\n",
      "08-05-2019  15:54                54 .python_history\n",
      "10-05-2019  21:16             7,691 10th May.ipynb\n",
      "16-05-2019  15:35             2,517 10thmay.ipynb\n",
      "11-05-2019  20:25             1,788 11th May 2019.ipynb\n",
      "16-05-2019  16:41             7,058 12th may.ipynb\n",
      "16-05-2019  16:50             4,896 13th may.ipynb\n",
      "26-06-2019  15:40             2,017 26 june 2019.ipynb\n",
      "28-06-2019  15:53             9,254 28 june 2019.ipynb\n",
      "22-04-2019  22:21    <DIR>          Anaconda3\n",
      "15-11-2018  09:46    <DIR>          applet\n",
      "15-11-2018  09:55    <DIR>          applet.java\n",
      "15-11-2018  11:13    <DIR>          applette.java\n",
      "08-05-2019  20:21    <DIR>          Contacts\n",
      "22-06-2019  15:26             4,381 control statements.ipynb\n",
      "13-12-2016  10:25    <DIR>          cseb463\n",
      "29-06-2019  14:34             3,263 Day 12(29-06-2019).ipynb\n",
      "15-05-2019  17:02             6,354 Day 8.ipynb\n",
      "10-05-2019  15:52            15,871 Day 9.ipynb\n",
      "27-06-2019  11:03             2,206 Day-10.ipynb\n",
      "07-07-2019  08:49    <DIR>          Desktop\n",
      "24-06-2019  10:08    <DIR>          Documents\n",
      "29-06-2019  15:02    <DIR>          Downloads\n",
      "08-05-2019  20:21    <DIR>          Favorites\n",
      "11-07-2019  12:10               170 file.txt\n",
      "27-06-2019  10:22               170 file1.txt\n",
      "11-07-2019  12:10             1,572 file2.txt\n",
      "17-05-2019  17:18                 0 income.csv\n",
      "08-05-2019  20:21    <DIR>          Links\n",
      "14-05-2019  17:39               795 may14.ipynb\n",
      "08-05-2019  20:21    <DIR>          Music\n",
      "08-05-2019  21:35             1,627 my first python program.ipynb\n",
      "17-05-2019  17:38    <DIR>          Pandas\n",
      "08-05-2019  20:21    <DIR>          Pictures\n",
      "11-07-2019  14:59            17,291 python day10.ipynb\n",
      "08-07-2019  15:30             8,944 python day7.ipynb\n",
      "09-07-2019  16:41             3,340 python day8.ipynb\n",
      "10-07-2019  16:51             9,247 python day9.ipynb\n",
      "22-06-2019  15:25             4,381 rakii.ipynb\n",
      "08-05-2019  20:21    <DIR>          Saved Games\n",
      "08-05-2019  20:21    <DIR>          Searches\n",
      "11-07-2019  14:50    <DIR>          SingleDirectory\n",
      "08-05-2019  21:12             1,153 skill enhancement.ipynb\n",
      "11-07-2019  14:58    <DIR>          test folder\n",
      "15-05-2019  17:40                 0 test.py\n",
      "15-05-2019  17:47                30 test2.py\n",
      "15-05-2019  20:24             2,747 Untitled.ipynb\n",
      "08-05-2019  16:01                72 Untitled1.ipynb\n",
      "08-05-2019  20:29               771 Untitled10.ipynb\n",
      "08-05-2019  20:51             1,153 Untitled11.ipynb\n",
      "08-05-2019  21:31             1,627 Untitled12.ipynb\n",
      "09-05-2019  15:12               800 Untitled13.ipynb\n",
      "09-05-2019  16:25               800 Untitled13-Copy1.ipynb\n",
      "09-05-2019  16:39             1,552 Untitled14.ipynb\n",
      "10-05-2019  16:12             1,725 Untitled15.ipynb\n",
      "11-05-2019  16:19               746 Untitled16.ipynb\n",
      "12-05-2019  15:39             2,910 Untitled17.ipynb\n",
      "14-05-2019  15:25               555 Untitled18.ipynb\n",
      "16-05-2019  15:23                72 Untitled19.ipynb\n",
      "08-05-2019  16:28                72 Untitled2.ipynb\n",
      "16-05-2019  16:17                72 Untitled20.ipynb\n",
      "16-05-2019  16:45                72 Untitled21.ipynb\n",
      "18-05-2019  20:32               555 Untitled22.ipynb\n",
      "22-06-2019  02:16               555 Untitled23.ipynb\n",
      "22-06-2019  03:23               851 Untitled24.ipynb\n",
      "22-06-2019  11:09             2,983 Untitled25.ipynb\n",
      "28-06-2019  16:37             3,391 Untitled26.ipynb\n",
      "28-06-2019  17:14            20,700 Untitled27.ipynb\n",
      "09-07-2019  11:46             5,366 Untitled28.ipynb\n",
      "10-07-2019  12:44               573 Untitled29.ipynb\n",
      "08-05-2019  17:43                72 Untitled3.ipynb\n",
      "08-05-2019  19:53                72 Untitled4.ipynb\n",
      "08-05-2019  19:54                72 Untitled5.ipynb\n",
      "08-05-2019  19:55                72 Untitled6.ipynb\n",
      "08-05-2019  19:57                72 Untitled7.ipynb\n",
      "08-05-2019  20:06                72 Untitled8.ipynb\n",
      "08-05-2019  20:10                72 Untitled9.ipynb\n",
      "08-05-2019  20:21    <DIR>          Videos\n",
      "15-11-2018  13:53    <DIR>          workspace\n",
      "              63 File(s)        167,856 bytes\n",
      "              33 Dir(s)  71,268,237,312 bytes free\n"
     ]
    }
   ],
   "source": [
    "ls"
   ]
  },
  {
   "cell_type": "markdown",
   "metadata": {},
   "source": [
    "### Creating a multiple directories"
   ]
  },
  {
   "cell_type": "code",
   "execution_count": 26,
   "metadata": {},
   "outputs": [],
   "source": [
    "import os\n",
    "os.makedirs('2019/july/11')"
   ]
  },
  {
   "cell_type": "code",
   "execution_count": 27,
   "metadata": {},
   "outputs": [
    {
     "name": "stdout",
     "output_type": "stream",
     "text": [
      " Volume in drive C has no label.\n",
      " Volume Serial Number is F679-248A\n",
      "\n",
      " Directory of C:\\users\\262\n",
      "\n",
      "11-07-2019  15:05    <DIR>          .\n",
      "11-07-2019  15:05    <DIR>          ..\n",
      "08-05-2019  15:07    <DIR>          .anaconda\n",
      "17-03-2017  11:35               145 .appletviewer\n",
      "21-05-2019  19:54               304 .bash_history\n",
      "02-11-2017  15:45                 0 .cdtclient\n",
      "22-06-2019  15:59    <DIR>          .conda\n",
      "22-06-2019  14:20                43 .condarc\n",
      "30-10-2018  11:23    <DIR>          .eclipse\n",
      "21-05-2019  19:50                70 .gitconfig\n",
      "29-06-2019  10:18    <DIR>          .idlerc\n",
      "11-07-2019  09:16    <DIR>          .ipynb_checkpoints\n",
      "08-05-2019  15:26    <DIR>          .ipython\n",
      "30-10-2018  11:23    <DIR>          .jmc\n",
      "15-05-2019  19:36    <DIR>          .jupyter\n",
      "18-05-2019  16:37    <DIR>          .matplotlib\n",
      "15-11-2018  11:24    <DIR>          .metadata\n",
      "11-01-2019  13:55    <DIR>          .oracle_jre_usage\n",
      "08-05-2019  15:54                54 .python_history\n",
      "10-05-2019  21:16             7,691 10th May.ipynb\n",
      "16-05-2019  15:35             2,517 10thmay.ipynb\n",
      "11-05-2019  20:25             1,788 11th May 2019.ipynb\n",
      "16-05-2019  16:41             7,058 12th may.ipynb\n",
      "16-05-2019  16:50             4,896 13th may.ipynb\n",
      "11-07-2019  15:04    <DIR>          2019\n",
      "26-06-2019  15:40             2,017 26 june 2019.ipynb\n",
      "28-06-2019  15:53             9,254 28 june 2019.ipynb\n",
      "22-04-2019  22:21    <DIR>          Anaconda3\n",
      "15-11-2018  09:46    <DIR>          applet\n",
      "15-11-2018  09:55    <DIR>          applet.java\n",
      "15-11-2018  11:13    <DIR>          applette.java\n",
      "08-05-2019  20:21    <DIR>          Contacts\n",
      "22-06-2019  15:26             4,381 control statements.ipynb\n",
      "13-12-2016  10:25    <DIR>          cseb463\n",
      "29-06-2019  14:34             3,263 Day 12(29-06-2019).ipynb\n",
      "15-05-2019  17:02             6,354 Day 8.ipynb\n",
      "10-05-2019  15:52            15,871 Day 9.ipynb\n",
      "27-06-2019  11:03             2,206 Day-10.ipynb\n",
      "07-07-2019  08:49    <DIR>          Desktop\n",
      "24-06-2019  10:08    <DIR>          Documents\n",
      "29-06-2019  15:02    <DIR>          Downloads\n",
      "08-05-2019  20:21    <DIR>          Favorites\n",
      "11-07-2019  12:10               170 file.txt\n",
      "27-06-2019  10:22               170 file1.txt\n",
      "11-07-2019  12:10             1,572 file2.txt\n",
      "17-05-2019  17:18                 0 income.csv\n",
      "08-05-2019  20:21    <DIR>          Links\n",
      "14-05-2019  17:39               795 may14.ipynb\n",
      "08-05-2019  20:21    <DIR>          Music\n",
      "08-05-2019  21:35             1,627 my first python program.ipynb\n",
      "17-05-2019  17:38    <DIR>          Pandas\n",
      "08-05-2019  20:21    <DIR>          Pictures\n",
      "11-07-2019  15:05            23,900 python day10.ipynb\n",
      "08-07-2019  15:30             8,944 python day7.ipynb\n",
      "09-07-2019  16:41             3,340 python day8.ipynb\n",
      "10-07-2019  16:51             9,247 python day9.ipynb\n",
      "22-06-2019  15:25             4,381 rakii.ipynb\n",
      "08-05-2019  20:21    <DIR>          Saved Games\n",
      "08-05-2019  20:21    <DIR>          Searches\n",
      "11-07-2019  14:50    <DIR>          SingleDirectory\n",
      "08-05-2019  21:12             1,153 skill enhancement.ipynb\n",
      "11-07-2019  14:58    <DIR>          test folder\n",
      "15-05-2019  17:40                 0 test.py\n",
      "15-05-2019  17:47                30 test2.py\n",
      "15-05-2019  20:24             2,747 Untitled.ipynb\n",
      "08-05-2019  16:01                72 Untitled1.ipynb\n",
      "08-05-2019  20:29               771 Untitled10.ipynb\n",
      "08-05-2019  20:51             1,153 Untitled11.ipynb\n",
      "08-05-2019  21:31             1,627 Untitled12.ipynb\n",
      "09-05-2019  15:12               800 Untitled13.ipynb\n",
      "09-05-2019  16:25               800 Untitled13-Copy1.ipynb\n",
      "09-05-2019  16:39             1,552 Untitled14.ipynb\n",
      "10-05-2019  16:12             1,725 Untitled15.ipynb\n",
      "11-05-2019  16:19               746 Untitled16.ipynb\n",
      "12-05-2019  15:39             2,910 Untitled17.ipynb\n",
      "14-05-2019  15:25               555 Untitled18.ipynb\n",
      "16-05-2019  15:23                72 Untitled19.ipynb\n",
      "08-05-2019  16:28                72 Untitled2.ipynb\n",
      "16-05-2019  16:17                72 Untitled20.ipynb\n",
      "16-05-2019  16:45                72 Untitled21.ipynb\n",
      "18-05-2019  20:32               555 Untitled22.ipynb\n",
      "22-06-2019  02:16               555 Untitled23.ipynb\n",
      "22-06-2019  03:23               851 Untitled24.ipynb\n",
      "22-06-2019  11:09             2,983 Untitled25.ipynb\n",
      "28-06-2019  16:37             3,391 Untitled26.ipynb\n",
      "28-06-2019  17:14            20,700 Untitled27.ipynb\n",
      "09-07-2019  11:46             5,366 Untitled28.ipynb\n",
      "10-07-2019  12:44               573 Untitled29.ipynb\n",
      "08-05-2019  17:43                72 Untitled3.ipynb\n",
      "08-05-2019  19:53                72 Untitled4.ipynb\n",
      "08-05-2019  19:54                72 Untitled5.ipynb\n",
      "08-05-2019  19:55                72 Untitled6.ipynb\n",
      "08-05-2019  19:57                72 Untitled7.ipynb\n",
      "08-05-2019  20:06                72 Untitled8.ipynb\n",
      "08-05-2019  20:10                72 Untitled9.ipynb\n",
      "08-05-2019  20:21    <DIR>          Videos\n",
      "15-11-2018  13:53    <DIR>          workspace\n",
      "              63 File(s)        174,465 bytes\n",
      "              34 Dir(s)  71,264,165,888 bytes free\n"
     ]
    }
   ],
   "source": [
    "ls\n"
   ]
  },
  {
   "cell_type": "markdown",
   "metadata": {},
   "source": [
    "### Filename pattern matching"
   ]
  },
  {
   "cell_type": "code",
   "execution_count": null,
   "metadata": {},
   "outputs": [],
   "source": []
  },
  {
   "cell_type": "markdown",
   "metadata": {},
   "source": [
    "### Regular expressions"
   ]
  },
  {
   "cell_type": "code",
   "execution_count": null,
   "metadata": {},
   "outputs": [],
   "source": []
  }
 ],
 "metadata": {
  "kernelspec": {
   "display_name": "Python 3",
   "language": "python",
   "name": "python3"
  }
 },
 "nbformat": 4,
 "nbformat_minor": 2
}
